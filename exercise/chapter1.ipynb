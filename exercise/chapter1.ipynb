{
 "cells": [
  {
   "cell_type": "markdown",
   "metadata": {},
   "source": [
    "# 1-2 Sigmoid neurons"
   ]
  },
  {
   "cell_type": "markdown",
   "metadata": {},
   "source": [
    "## Sigmoid neurons simulating perceptrons, part Ⅰ"
   ]
  },
  {
   "cell_type": "markdown",
   "metadata": {},
   "source": [
    "The output of a single perceptron can be calculated in the following way:\n",
    "\n",
    "![perceptron](../picture/chapter1/p3.png)\n",
    "\n"
   ]
  },
  {
   "cell_type": "markdown",
   "metadata": {},
   "source": [
    "And when we mutiply a positive constant, c, then the inequality that $w\\cdot x\\cdot c + b\\cdot c \\le 0$ still holds if $w\\cdot x + b \\le 0$. The another situation that $w\\cdot x + b > 0$ can also be demonstated in the same way easily."
   ]
  },
  {
   "cell_type": "markdown",
   "metadata": {},
   "source": [
    "So when we mutiply all the weights and biases in a network of perceptrons by a postive number, the behavior of the network doesn't change."
   ]
  },
  {
   "cell_type": "markdown",
   "metadata": {},
   "source": [
    "## Sigmoid neurons simulating perceptrons, part Ⅱ"
   ]
  },
  {
   "cell_type": "markdown",
   "metadata": {},
   "source": [
    "The sigmoid function is defined by:\n",
    "\n",
    "$$\\sigma(z) \\equiv \\frac{1}{1 + e^{-z}}$$"
   ]
  },
  {
   "cell_type": "markdown",
   "metadata": {},
   "source": [
    "And because of the weights and biases are such that $w\\cdot x + b \\ne 0$ for the input x to any particular perceptron in the network, so this situation can be divided into two cases:"
   ]
  },
  {
   "cell_type": "markdown",
   "metadata": {},
   "source": [
    "* $w \\cdot x + b > 0$. In this case, the output of a single perceptron is 1. And if we replace the perceptron by sigmoid neuron and multiply the weights and biases by a positive constant c > 0, the output of the sigmoid neuron is also 1, since $z = \\lim_{c \\to +\\infty} w \\cdot x \\cdot c + b \\cdot c = +\\infty$ and $\\sigma(z) = 1.$"
   ]
  },
  {
   "cell_type": "markdown",
   "metadata": {},
   "source": [
    "* $w \\cdot x + b < 0$. In this case, the output of a single perceptron is 0. And we do the same like above, the output of the sigmoid neuron is also 0, since $z = \\lim_{c \\to +\\infty} w \\cdot x \\cdot c + b \\cdot c = -\\infty$ and $\\sigma(z) = 0.$"
   ]
  },
  {
   "cell_type": "markdown",
   "metadata": {},
   "source": [
    "However, this fail when $w \\cdot x + b = 0$ for one of the perceptrons because the output of this perceptron is 0 which not equal to the output, 0.5, when we replace the "
   ]
  },
  {
   "cell_type": "code",
   "execution_count": null,
   "metadata": {},
   "outputs": [],
   "source": []
  }
 ],
 "metadata": {
  "kernelspec": {
   "display_name": "Python 3",
   "language": "python",
   "name": "python3"
  },
  "language_info": {
   "codemirror_mode": {
    "name": "ipython",
    "version": 3
   },
   "file_extension": ".py",
   "mimetype": "text/x-python",
   "name": "python",
   "nbconvert_exporter": "python",
   "pygments_lexer": "ipython3",
   "version": "3.7.4"
  }
 },
 "nbformat": 4,
 "nbformat_minor": 2
}
