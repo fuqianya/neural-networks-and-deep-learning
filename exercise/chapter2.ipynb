{
 "cells": [
  {
   "cell_type": "markdown",
   "metadata": {},
   "source": [
    "# 2.4 - The four fundamental equations behind backpropagation"
   ]
  },
  {
   "cell_type": "markdown",
   "metadata": {},
   "source": [
    "## Alternate presentation of the equations of backpropagation:"
   ]
  },
  {
   "cell_type": "markdown",
   "metadata": {},
   "source": [
    "### (1)"
   ]
  },
  {
   "cell_type": "markdown",
   "metadata": {},
   "source": [
    "Suppose there are $n$ neurons in the output layer. So the square maxtrix, $\\sum^{'}(z^L)$, can be represented by"
   ]
  },
  {
   "cell_type": "markdown",
   "metadata": {},
   "source": [
    "$$\n",
    "        \\begin{bmatrix}\n",
    "        \\sigma'(z^L_1) & 0 & 0 & \\cdots & 0 \\\\\n",
    "        0 & \\sigma'(z^L_2) & 0 & \\cdots & 0 \\\\\n",
    "        \\vdots & \\vdots & \\vdots & \\ddots & \\vdots \\\\\n",
    "        0 & 0 & 0 & \\cdots & \\sigma'(z^L_n) \\\\\n",
    "        \\end{bmatrix} ,\n",
    "$$"
   ]
  },
  {
   "cell_type": "markdown",
   "metadata": {},
   "source": [
    "and $\\triangledown_aC$ is a nx1-dimensional matrix, which can be represented by"
   ]
  },
  {
   "cell_type": "markdown",
   "metadata": {},
   "source": [
    "$$\n",
    "        \\begin{bmatrix}\n",
    "        \\frac{\\partial C}{\\partial a^L_1} \\\\\n",
    "        \\frac{\\partial C}{\\partial a^L_2} \\\\\n",
    "        \\vdots \\\\\n",
    "        \\frac{\\partial C}{\\partial a^L_n}  \\\\\n",
    "        \\end{bmatrix} .\n",
    "$$"
   ]
  },
  {
   "cell_type": "markdown",
   "metadata": {},
   "source": [
    "And by multipling these two matrices we can get"
   ]
  },
  {
   "cell_type": "markdown",
   "metadata": {},
   "source": [
    "$$\n",
    "        \\begin{bmatrix}\n",
    "        \\sigma'(z^L_1) \\cdot \\frac{\\partial C}{\\partial a^L_1} \\\\\n",
    "        \\sigma'(z^L_2) \\cdot \\frac{\\partial C}{\\partial a^L_2} \\\\\n",
    "        \\vdots \\\\\n",
    "        \\sigma'(z^L_n) \\cdot \\frac{\\partial C}{\\partial a^L_n}  \\\\\n",
    "        \\end{bmatrix}.\n",
    "$$"
   ]
  },
  {
   "cell_type": "markdown",
   "metadata": {},
   "source": [
    "It's easily to vetify that Equation (BP1) gives the same result as this."
   ]
  },
  {
   "cell_type": "markdown",
   "metadata": {},
   "source": [
    "### (2)"
   ]
  },
  {
   "cell_type": "markdown",
   "metadata": {},
   "source": [
    "Suppose $\\triangledown_a'C = ((w^{l+1})^T\\delta^{l+1})$, then Equation (BP2) can be rewritten as\n",
    "$$\\delta^L = \\triangledown_a'C\\odot\\sigma'(z^L) ,$$\n",
    "\n",
    "and Equation 2.12 can be rewritten as\n",
    "$$\\delta^L = \\sum'(z^L)\\triangledown_a'C .$$\n",
    "\n",
    "You will find that we have demonstrated this case in (1)."
   ]
  },
  {
   "cell_type": "markdown",
   "metadata": {},
   "source": [
    "### (3)"
   ]
  },
  {
   "cell_type": "markdown",
   "metadata": {},
   "source": [
    "Since $\\delta^l = \\sum'(z^l)(w^{l+1})^T\\delta^{l+1}$, and $\\delta^{l+1} = \\sum'(z^{l+1})(w^{l+2})^T\\delta^{l+2}$, and so on. We can easily get the result \n",
    "\n",
    "$$\\delta^l = \\sum'(z^l)(w^{l+1})^T...\\sum'(z^{L-1})(w^{L})^T\\delta^{L} = \\sum'(z^l)(w^{l+1})^T...\\sum'(z^{L-1})(w^{L})^T  \\sum'(z^L)\\triangledown_aC $$"
   ]
  }
 ],
 "metadata": {
  "kernelspec": {
   "display_name": "Python 3",
   "language": "python",
   "name": "python3"
  },
  "language_info": {
   "codemirror_mode": {
    "name": "ipython",
    "version": 3
   },
   "file_extension": ".py",
   "mimetype": "text/x-python",
   "name": "python",
   "nbconvert_exporter": "python",
   "pygments_lexer": "ipython3",
   "version": "3.7.4"
  }
 },
 "nbformat": 4,
 "nbformat_minor": 2
}
