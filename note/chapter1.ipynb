{
 "cells": [
  {
   "cell_type": "markdown",
   "metadata": {},
   "source": [
    "# What this book is about?\n"
   ]
  },
  {
   "cell_type": "markdown",
   "metadata": {},
   "source": [
    "This book introduces one of the most beautiful programming paradigms so-called neural networks. In the conventional approach to programming, **we tell the computer what to do**. By contrast, in a neural network we don't tell the computer how to solve our problem. Instead, **it learns from observational data**, **figuring out its own solution to the problem**.\n",
    "\n"
   ]
  },
  {
   "cell_type": "markdown",
   "metadata": {},
   "source": [
    "The purpose of this book is to **help you master the core concepts of neural networks**. One conviction underlying the book is that **it's better to obtain a solid understanding of the core principles of neural networks and deep learning**, rather than a hazy understanding of a long laundry list of ideas. If you have understood the core ideas well, you can rapidly understand other new material. **You need to understand the durable, lasting insights underlying how neural networks work.**\n",
    "\n",
    "**Technologies come and go, but insight is forever.**\n",
    "\n",
    "You will learn the core principles behind neural networks and deep learning by attacking a concrete problem: the problem of teaching a computer to recongnize handwritten digits. This book will not only include abstract theory but also living code, and you will understand the fundamentals **both in theory and practice.**"
   ]
  },
  {
   "cell_type": "markdown",
   "metadata": {},
   "source": [
    "# 1 - Using nerual nets to recognize handwritten digits\n",
    "## 1.1 - Perceptrons"
   ]
  },
  {
   "cell_type": "code",
   "execution_count": null,
   "metadata": {},
   "outputs": [],
   "source": []
  }
 ],
 "metadata": {
  "kernelspec": {
   "display_name": "Python 3",
   "language": "python",
   "name": "python3"
  },
  "language_info": {
   "codemirror_mode": {
    "name": "ipython",
    "version": 3
   },
   "file_extension": ".py",
   "mimetype": "text/x-python",
   "name": "python",
   "nbconvert_exporter": "python",
   "pygments_lexer": "ipython3",
   "version": "3.7.4"
  }
 },
 "nbformat": 4,
 "nbformat_minor": 2
}
